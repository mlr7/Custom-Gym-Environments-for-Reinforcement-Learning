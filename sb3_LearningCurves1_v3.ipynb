{
 "cells": [
  {
   "cell_type": "code",
   "execution_count": null,
   "id": "59a38d29",
   "metadata": {},
   "outputs": [],
   "source": []
  },
  {
   "cell_type": "code",
   "execution_count": null,
   "id": "54e36001",
   "metadata": {},
   "outputs": [],
   "source": [
    "# https://stable-baselines3.readthedocs.io/en/master/guide/examples.html\n",
    "\n",
    "# Using Callback: Monitoring Training"
   ]
  },
  {
   "cell_type": "markdown",
   "id": "464a80e1",
   "metadata": {},
   "source": [
    "You can define a custom callback function that will be called inside the agent. This could be useful when you want to monitor training, for instance display live learning curves in Tensorboard (or in Visdom) or save the best agent. If your callback returns False, training is aborted early."
   ]
  },
  {
   "cell_type": "code",
   "execution_count": 1,
   "id": "f1cbc37e",
   "metadata": {},
   "outputs": [],
   "source": [
    "import os\n",
    "\n",
    "import gym\n",
    "import numpy as np\n",
    "import matplotlib.pyplot as plt"
   ]
  },
  {
   "cell_type": "code",
   "execution_count": 2,
   "id": "e69017c0",
   "metadata": {},
   "outputs": [],
   "source": [
    "from stable_baselines3 import TD3\n",
    "from stable_baselines3.common import results_plotter\n",
    "from stable_baselines3.common.monitor import Monitor\n",
    "from stable_baselines3.common.results_plotter import load_results, ts2xy, plot_results\n",
    "from stable_baselines3.common.noise import NormalActionNoise\n",
    "from stable_baselines3.common.callbacks import BaseCallback"
   ]
  },
  {
   "cell_type": "code",
   "execution_count": 3,
   "id": "cb5de319",
   "metadata": {},
   "outputs": [],
   "source": [
    "class SaveOnBestTrainingRewardCallback(BaseCallback):\n",
    "    \"\"\"\n",
    "    Callback for saving a model (the check is done every ``check_freq`` steps)\n",
    "    based on the training reward (in practice, we recommend using ``EvalCallback``).\n",
    "\n",
    "    :param check_freq:\n",
    "    :param log_dir: Path to the folder where the model will be saved.\n",
    "      It must contains the file created by the ``Monitor`` wrapper.\n",
    "    :param verbose: Verbosity level: 0 for no output, 1 for info messages, 2 for debug messages\n",
    "    \"\"\"\n",
    "    def __init__(self, check_freq: int, log_dir: str, verbose: int = 1):\n",
    "        super(SaveOnBestTrainingRewardCallback, self).__init__(verbose)\n",
    "        self.check_freq = check_freq\n",
    "        self.log_dir = log_dir\n",
    "        self.save_path = os.path.join(log_dir, \"best_model\")\n",
    "        self.best_mean_reward = -np.inf\n",
    "\n",
    "    def _init_callback(self) -> None:\n",
    "        # Create folder if needed\n",
    "        if self.save_path is not None:\n",
    "            os.makedirs(self.save_path, exist_ok=True)\n",
    "\n",
    "    def _on_step(self) -> bool:\n",
    "        if self.n_calls % self.check_freq == 0:\n",
    "\n",
    "          # Retrieve training reward\n",
    "          x, y = ts2xy(load_results(self.log_dir), \"timesteps\")\n",
    "          if len(x) > 0:\n",
    "              # Mean training reward over the last 100 episodes\n",
    "              mean_reward = np.mean(y[-100:])\n",
    "              if self.verbose >= 1:\n",
    "                print(f\"Num timesteps: {self.num_timesteps}\")\n",
    "                print(f\"Best mean reward: {self.best_mean_reward:.2f} - Last mean reward per episode: {mean_reward:.2f}\")\n",
    "\n",
    "              # New best model, you could save the agent here\n",
    "              if mean_reward > self.best_mean_reward:\n",
    "                  self.best_mean_reward = mean_reward\n",
    "                  # Example for saving best model\n",
    "                  if self.verbose >= 1:\n",
    "                    print(f\"Saving new best model to {self.save_path}\")\n",
    "                  self.model.save(self.save_path)\n",
    "\n",
    "        return True"
   ]
  },
  {
   "cell_type": "code",
   "execution_count": 4,
   "id": "3ba83c08",
   "metadata": {},
   "outputs": [],
   "source": [
    "# Create log dir\n",
    "log_dir = \"tmp/\"\n",
    "os.makedirs(log_dir, exist_ok=True)"
   ]
  },
  {
   "cell_type": "code",
   "execution_count": 5,
   "id": "721840ff",
   "metadata": {},
   "outputs": [],
   "source": [
    "# Create and wrap the environment\n",
    "env = gym.make(\"LunarLanderContinuous-v2\")\n",
    "env = Monitor(env, log_dir)"
   ]
  },
  {
   "cell_type": "code",
   "execution_count": 6,
   "id": "19592e03",
   "metadata": {},
   "outputs": [],
   "source": [
    "# Add some action noise for exploration\n",
    "n_actions = env.action_space.shape[-1]\n",
    "action_noise = NormalActionNoise(mean=np.zeros(n_actions), sigma=0.1 * np.ones(n_actions))\n",
    "# Because we use parameter noise, we should use a MlpPolicy with layer normalization"
   ]
  },
  {
   "cell_type": "code",
   "execution_count": 7,
   "id": "6f8b6560",
   "metadata": {},
   "outputs": [],
   "source": [
    "# Because we use parameter noise, we should use a MlpPolicy with layer normalization\n",
    "model = TD3(\"MlpPolicy\", env, action_noise=action_noise, verbose=0)"
   ]
  },
  {
   "cell_type": "code",
   "execution_count": 8,
   "id": "ae9479b4",
   "metadata": {},
   "outputs": [],
   "source": [
    "# Create the callback: check every 1000 steps\n",
    "callback = SaveOnBestTrainingRewardCallback(check_freq=100, log_dir=log_dir) #check_freq=1000"
   ]
  },
  {
   "cell_type": "code",
   "execution_count": 9,
   "id": "35acf2ad",
   "metadata": {},
   "outputs": [
    {
     "name": "stdout",
     "output_type": "stream",
     "text": [
      "Num timesteps: 100\n",
      "Best mean reward: -inf - Last mean reward per episode: -383.88\n",
      "Saving new best model to tmp/best_model\n",
      "Num timesteps: 200\n",
      "Best mean reward: -383.88 - Last mean reward per episode: -246.86\n",
      "Saving new best model to tmp/best_model\n",
      "Num timesteps: 300\n",
      "Best mean reward: -246.86 - Last mean reward per episode: -403.28\n",
      "Num timesteps: 400\n",
      "Best mean reward: -246.86 - Last mean reward per episode: -509.87\n",
      "Num timesteps: 500\n",
      "Best mean reward: -246.86 - Last mean reward per episode: -732.49\n",
      "Num timesteps: 600\n",
      "Best mean reward: -246.86 - Last mean reward per episode: -709.00\n",
      "Num timesteps: 700\n",
      "Best mean reward: -246.86 - Last mean reward per episode: -700.43\n",
      "Num timesteps: 800\n",
      "Best mean reward: -246.86 - Last mean reward per episode: -684.42\n",
      "Num timesteps: 900\n",
      "Best mean reward: -246.86 - Last mean reward per episode: -617.12\n",
      "Num timesteps: 1000\n",
      "Best mean reward: -246.86 - Last mean reward per episode: -617.12\n",
      "Num timesteps: 1100\n",
      "Best mean reward: -246.86 - Last mean reward per episode: -617.12\n"
     ]
    },
    {
     "data": {
      "text/plain": [
       "<stable_baselines3.td3.td3.TD3 at 0x19a72a223b0>"
      ]
     },
     "execution_count": 9,
     "metadata": {},
     "output_type": "execute_result"
    }
   ],
   "source": [
    "# Train the agent\n",
    "timesteps = 1000 #1e5\n",
    "model.learn(total_timesteps=int(timesteps), callback=callback)"
   ]
  },
  {
   "cell_type": "code",
   "execution_count": 10,
   "id": "9fb60324",
   "metadata": {},
   "outputs": [
    {
     "data": {
      "image/png": "[encoded data removed]",
      "text/plain": [
       "<Figure size 576x144 with 1 Axes>"
      ]
     },
     "metadata": {
      "needs_background": "light"
     },
     "output_type": "display_data"
    }
   ],
   "source": [
    "plot_results([log_dir], timesteps, results_plotter.X_TIMESTEPS, \"TD3 LunarLander\")\n",
    "plt.show()"
   ]
  },
  {
   "cell_type": "code",
   "execution_count": 11,
   "id": "d97af060",
   "metadata": {},
   "outputs": [
    {
     "data": {
      "text/plain": [
       "1000"
      ]
     },
     "execution_count": 11,
     "metadata": {},
     "output_type": "execute_result"
    }
   ],
   "source": [
    "timesteps"
   ]
  },
  {
   "cell_type": "code",
   "execution_count": 14,
   "id": "e9fee91b",
   "metadata": {},
   "outputs": [
    {
     "data": {
      "text/plain": [
       "'timesteps'"
      ]
     },
     "execution_count": 14,
     "metadata": {},
     "output_type": "execute_result"
    }
   ],
   "source": [
    "results_plotter.X_TIMESTEPS"
   ]
  },
  {
   "cell_type": "code",
   "execution_count": 15,
   "id": "87ab4701",
   "metadata": {},
   "outputs": [
    {
     "data": {
      "text/plain": [
       "str"
      ]
     },
     "execution_count": 15,
     "metadata": {},
     "output_type": "execute_result"
    }
   ],
   "source": [
    "type(results_plotter.X_TIMESTEPS)"
   ]
  },
  {
   "cell_type": "code",
   "execution_count": 17,
   "id": "6ceb22fb",
   "metadata": {},
   "outputs": [],
   "source": [
    "import pandas as pd"
   ]
  },
  {
   "cell_type": "code",
   "execution_count": 22,
   "id": "3670166d",
   "metadata": {},
   "outputs": [],
   "source": [
    "df = pd.read_csv('copy1_monitor.csv')"
   ]
  },
  {
   "cell_type": "code",
   "execution_count": 23,
   "id": "13278ee5",
   "metadata": {},
   "outputs": [
    {
     "data": {
      "text/html": [
       "<div>\n",
       "<style scoped>\n",
       "    .dataframe tbody tr th:only-of-type {\n",
       "        vertical-align: middle;\n",
       "    }\n",
       "\n",
       "    .dataframe tbody tr th {\n",
       "        vertical-align: top;\n",
       "    }\n",
       "\n",
       "    .dataframe thead th {\n",
       "        text-align: right;\n",
       "    }\n",
       "</style>\n",
       "<table border=\"1\" class=\"dataframe\">\n",
       "  <thead>\n",
       "    <tr style=\"text-align: right;\">\n",
       "      <th></th>\n",
       "      <th>r</th>\n",
       "      <th>l</th>\n",
       "      <th>t</th>\n",
       "    </tr>\n",
       "  </thead>\n",
       "  <tbody>\n",
       "    <tr>\n",
       "      <th>0</th>\n",
       "      <td>-383.878515</td>\n",
       "      <td>88</td>\n",
       "      <td>5.487502</td>\n",
       "    </tr>\n",
       "    <tr>\n",
       "      <th>1</th>\n",
       "      <td>-109.831601</td>\n",
       "      <td>105</td>\n",
       "      <td>7.787711</td>\n",
       "    </tr>\n",
       "    <tr>\n",
       "      <th>2</th>\n",
       "      <td>-716.134066</td>\n",
       "      <td>78</td>\n",
       "      <td>8.711449</td>\n",
       "    </tr>\n",
       "    <tr>\n",
       "      <th>3</th>\n",
       "      <td>-829.643966</td>\n",
       "      <td>89</td>\n",
       "      <td>9.453444</td>\n",
       "    </tr>\n",
       "    <tr>\n",
       "      <th>4</th>\n",
       "      <td>-1622.958633</td>\n",
       "      <td>125</td>\n",
       "      <td>10.285955</td>\n",
       "    </tr>\n",
       "    <tr>\n",
       "      <th>5</th>\n",
       "      <td>-591.575995</td>\n",
       "      <td>66</td>\n",
       "      <td>11.383873</td>\n",
       "    </tr>\n",
       "    <tr>\n",
       "      <th>6</th>\n",
       "      <td>-648.963994</td>\n",
       "      <td>74</td>\n",
       "      <td>12.007304</td>\n",
       "    </tr>\n",
       "    <tr>\n",
       "      <th>7</th>\n",
       "      <td>-572.363827</td>\n",
       "      <td>124</td>\n",
       "      <td>12.830626</td>\n",
       "    </tr>\n",
       "    <tr>\n",
       "      <th>8</th>\n",
       "      <td>-78.731838</td>\n",
       "      <td>143</td>\n",
       "      <td>14.031894</td>\n",
       "    </tr>\n",
       "    <tr>\n",
       "      <th>9</th>\n",
       "      <td>-164.698034</td>\n",
       "      <td>258</td>\n",
       "      <td>15.535769</td>\n",
       "    </tr>\n",
       "  </tbody>\n",
       "</table>\n",
       "</div>"
      ],
      "text/plain": [
       "             r    l          t\n",
       "0  -383.878515   88   5.487502\n",
       "1  -109.831601  105   7.787711\n",
       "2  -716.134066   78   8.711449\n",
       "3  -829.643966   89   9.453444\n",
       "4 -1622.958633  125  10.285955\n",
       "5  -591.575995   66  11.383873\n",
       "6  -648.963994   74  12.007304\n",
       "7  -572.363827  124  12.830626\n",
       "8   -78.731838  143  14.031894\n",
       "9  -164.698034  258  15.535769"
      ]
     },
     "execution_count": 23,
     "metadata": {},
     "output_type": "execute_result"
    }
   ],
   "source": [
    "df"
   ]
  },
  {
   "cell_type": "code",
   "execution_count": 26,
   "id": "d87f245c",
   "metadata": {},
   "outputs": [
    {
     "data": {
      "text/plain": [
       "[<matplotlib.lines.Line2D at 0x19ab1dcca30>]"
      ]
     },
     "execution_count": 26,
     "metadata": {},
     "output_type": "execute_result"
    },
    {
     "data": {
      "image/png": "[encoded data removed]",
      "text/plain": [
       "<Figure size 432x288 with 1 Axes>"
      ]
     },
     "metadata": {
      "needs_background": "light"
     },
     "output_type": "display_data"
    }
   ],
   "source": [
    "plt.figure()\n",
    "plt.plot(df['r'], '--o')"
   ]
  },
  {
   "cell_type": "code",
   "execution_count": null,
   "id": "e846f962",
   "metadata": {},
   "outputs": [],
   "source": []
  }
 ],
 "metadata": {
  "kernelspec": {
   "display_name": "Python 3 (ipykernel)",
   "language": "python",
   "name": "python3"
  },
  "language_info": {
   "codemirror_mode": {
    "name": "ipython",
    "version": 3
   },
   "file_extension": ".py",
   "mimetype": "text/x-python",
   "name": "python",
   "nbconvert_exporter": "python",
   "pygments_lexer": "ipython3",
   "version": "3.10.4"
  }
 },
 "nbformat": 4,
 "nbformat_minor": 5
}
